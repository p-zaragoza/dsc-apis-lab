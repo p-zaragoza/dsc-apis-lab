{
 "cells": [
  {
   "cell_type": "markdown",
   "metadata": {},
   "source": [
    "# APIs - Cumulative Lab\n",
    "\n",
    "\n",
    "## Introduction \n",
    "\n",
    "We've seen how the Yelp API works and how to create basic visualizations using Folium. It's time to put those skills to work in order to create a working map! Taking things a step further, you'll also independently explore how to perform pagination in order to retrieve a full results set from the Yelp API.\n",
    "\n",
    "## Objectives\n",
    "\n",
    "You will be able to: \n",
    "\n",
    "* Practice using functions to organize your code\n",
    "* Use pagination to retrieve all results from an API query\n",
    "* Practice parsing data returned from an API query\n",
    "* Practice interpreting visualizations of a dataset\n",
    "* Create maps using Folium"
   ]
  },
  {
   "cell_type": "markdown",
   "metadata": {},
   "source": [
    "## Your Task: Query Yelp for All Businesses in a Category and Analyze the Results\n",
    "\n",
    "![restaurant counter with pizza](images/restaurant_counter.jpg)\n",
    "\n",
    "Photo by <a href=\"https://unsplash.com/@jordanmadrid?utm_source=unsplash&utm_medium=referral&utm_content=creditCopyText\">Jordan Madrid</a> on <a href=\"/s/photos/pizza-restaurant?utm_source=unsplash&utm_medium=referral&utm_content=creditCopyText\">Unsplash</a>"
   ]
  },
  {
   "cell_type": "markdown",
   "metadata": {},
   "source": [
    "### Overview\n",
    "\n",
    "You've now worked with some API calls, but we have yet to see how to retrieve a more complete dataset in a programmatic manner. In this lab, you will write a query of businesses on Yelp, then use *pagination* to retrieve all possible results for that query. Then you will create a summary of your findings, including a Folium map of the geographic locations of those businesses.\n",
    "\n",
    "### Technical Details\n",
    "\n",
    "Returning to the Yelp API, the [documentation](https://www.yelp.com/developers/documentation/v3/business_search) also provides us details regarding the **API limits**. These often include details about the number of requests a user is allowed to make within a specified time limit and the maximum number of results to be returned. In this case, we are told that any request has a **maximum of 50 results per request** and defaults to 20. Furthermore, any search will be limited to a **total of 1000 results**. To retrieve all 1000 of these results, we would have to page through the results piece by piece, retrieving 50 at a time. Processes such as these are often referred to as pagination.\n",
    "\n",
    "Also, be mindful of the **API** ***rate*** **limits**. You can only make **5000 requests per day** and are also can make requests too fast. Start prototyping small before running a loop that could be faulty. You can also use `time.sleep(n)` to add delays. For more details see https://www.yelp.com/developers/documentation/v3/rate_limiting.\n",
    "\n",
    "In this lab, you will define a search and then paginate over the results to retrieve all of the results. You'll then parse these responses as a list of dictionaries (for further exploration) and create a map using Folium to visualize the results geographically.\n",
    "\n",
    "### Requirements\n",
    "\n",
    "#### 1. Make the Initial Request\n",
    "\n",
    "Start by filling in your API key to make the initial request to the business search API. Investigate the structure of the response you get back and start figuring out how you will extract the relevant information.\n",
    "\n",
    "#### 2. Add Pagination\n",
    "\n",
    "Using loops and functions, collect the maximum number of results for your query from the API.\n",
    "\n",
    "#### 3. Perform Exploratory Analysis\n",
    "\n",
    "Interpret visualizations related to the price range, average rating, and number of reviews for all query results.\n",
    "\n",
    "#### 4. Create a Folium Map\n",
    "\n",
    "Using latitude and longitude data, plot the query results on an interactive map."
   ]
  },
  {
   "cell_type": "markdown",
   "metadata": {},
   "source": [
    "## 1. Make the Initial Request\n",
    "\n",
    "### Querying\n",
    "\n",
    "Start by making an initial request to the Yelp API. Your search must include at least 2 parameters: **term** and **location**. For example, you might search for pizza restaurants in NYC. The term and location is up to you but make the request below.\n",
    "\n",
    "Use the `requests` library ([documentation here](https://requests.readthedocs.io/en/master/user/quickstart/#make-a-request)).\n",
    "\n",
    "You'll also need an API key from Yelp. If you haven't done this already, go to the Yelp [Manage App page](https://www.yelp.com/developers/v3/manage_app) and create a new app (after making an account if you haven't already)."
   ]
  },
  {
   "cell_type": "code",
   "execution_count": 1,
   "metadata": {},
   "outputs": [
    {
     "data": {
      "text/plain": [
       "<Response [200]>"
      ]
     },
     "execution_count": 1,
     "metadata": {},
     "output_type": "execute_result"
    }
   ],
   "source": [
    "# Replace None with appropriate code\n",
    "import json\n",
    "\n",
    "def get_keys(path):\n",
    "    with open(path) as f:\n",
    "        return json.load(f)\n",
    "    \n",
    "# Import the requests library\n",
    "import requests \n",
    "\n",
    "# Get this from the \"Manage App\" page. Make sure you set them\n",
    "# back to None before pushing this to GitHub, since otherwise\n",
    "# your credentials will be compromised\n",
    "keys = get_keys()\n",
    "\n",
    "api_key = keys['api_key']\n",
    "\n",
    "# These can be whatever you want! But the solution uses \"pizza\"\n",
    "# and \"New York NY\" if you want to compare your work directly\n",
    "term = \"pizza\"\n",
    "location = \"New York NY\"\n",
    "\n",
    "# Set up params for request\n",
    "url = \"https://api.yelp.com/v3/businesses/search\"\n",
    "headers = {\n",
    "    \"Authorization\": \"Bearer {}\".format(api_key)\n",
    "}\n",
    "url_params = {\n",
    "    \"term\": term.replace(\" \", \"+\"),\n",
    "    \"location\": location.replace(\" \", \"+\")\n",
    "}\n",
    "\n",
    "# Make the request using requests.get, passing in\n",
    "# url, headers=headers, and params=url_params\n",
    "response = requests.get(url, headers=headers, params=url_params)\n",
    "\n",
    "\n",
    "# Confirm we got a 200 response\n",
    "response"
   ]
  },
  {
   "cell_type": "code",
   "execution_count": 2,
   "metadata": {},
   "outputs": [
    {
     "data": {
      "text/plain": [
       "dict_keys(['businesses', 'total', 'region'])"
      ]
     },
     "execution_count": 2,
     "metadata": {},
     "output_type": "execute_result"
    }
   ],
   "source": [
    "# Run this cell without changes\n",
    "\n",
    "# Get the response body in JSON format\n",
    "response_json = response.json()\n",
    "# View the keys\n",
    "response_json.keys()"
   ]
  },
  {
   "cell_type": "markdown",
   "metadata": {},
   "source": [
    "### Extracting Data\n",
    "\n",
    "Now, retrieve the value associated with the `'businesses'` key, and inspect its contents."
   ]
  },
  {
   "cell_type": "code",
   "execution_count": 3,
   "metadata": {},
   "outputs": [
    {
     "data": {
      "text/plain": [
       "[{'id': 'zj8Lq1T8KIC5zwFief15jg',\n",
       "  'alias': 'prince-street-pizza-new-york-2',\n",
       "  'name': 'Prince Street Pizza',\n",
       "  'image_url': 'https://s3-media3.fl.yelpcdn.com/bphoto/ZAukOyv530w4KjOHC5YY1w/o.jpg',\n",
       "  'is_closed': False,\n",
       "  'url': 'https://www.yelp.com/biz/prince-street-pizza-new-york-2?adjust_creative=gfm5uWVBJnTM3G5Sbq1QAw&utm_campaign=yelp_api_v3&utm_medium=api_v3_business_search&utm_source=gfm5uWVBJnTM3G5Sbq1QAw',\n",
       "  'review_count': 4154,\n",
       "  'categories': [{'alias': 'pizza', 'title': 'Pizza'},\n",
       "   {'alias': 'italian', 'title': 'Italian'}],\n",
       "  'rating': 4.5,\n",
       "  'coordinates': {'latitude': 40.72308755605564,\n",
       "   'longitude': -73.99453001177575},\n",
       "  'transactions': ['delivery', 'pickup'],\n",
       "  'price': '$',\n",
       "  'location': {'address1': '27 Prince St',\n",
       "   'address2': None,\n",
       "   'address3': '',\n",
       "   'city': 'New York',\n",
       "   'zip_code': '10012',\n",
       "   'country': 'US',\n",
       "   'state': 'NY',\n",
       "   'display_address': ['27 Prince St', 'New York, NY 10012']},\n",
       "  'phone': '+12129664100',\n",
       "  'display_phone': '(212) 966-4100',\n",
       "  'distance': 1961.8771417367063},\n",
       " {'id': 'WIhm0W9197f_rRtDziq5qQ',\n",
       "  'alias': 'lombardis-pizza-new-york-4',\n",
       "  'name': \"Lombardi's Pizza\",\n",
       "  'image_url': 'https://s3-media1.fl.yelpcdn.com/bphoto/UZ6V_hobp1KpYDPOHNoCKw/o.jpg',\n",
       "  'is_closed': False,\n",
       "  'url': 'https://www.yelp.com/biz/lombardis-pizza-new-york-4?adjust_creative=gfm5uWVBJnTM3G5Sbq1QAw&utm_campaign=yelp_api_v3&utm_medium=api_v3_business_search&utm_source=gfm5uWVBJnTM3G5Sbq1QAw',\n",
       "  'review_count': 6247,\n",
       "  'categories': [{'alias': 'pizza', 'title': 'Pizza'}],\n",
       "  'rating': 4.0,\n",
       "  'coordinates': {'latitude': 40.7215934960083,\n",
       "   'longitude': -73.9955956044561},\n",
       "  'transactions': ['delivery', 'pickup'],\n",
       "  'price': '$$',\n",
       "  'location': {'address1': '32 Spring St',\n",
       "   'address2': '',\n",
       "   'address3': '',\n",
       "   'city': 'New York',\n",
       "   'zip_code': '10012',\n",
       "   'country': 'US',\n",
       "   'state': 'NY',\n",
       "   'display_address': ['32 Spring St', 'New York, NY 10012']},\n",
       "  'phone': '+12129417994',\n",
       "  'display_phone': '(212) 941-7994',\n",
       "  'distance': 1798.9959778083735}]"
      ]
     },
     "execution_count": 3,
     "metadata": {},
     "output_type": "execute_result"
    }
   ],
   "source": [
    "# Replace None with appropriate code\n",
    "\n",
    "# Retrieve the value from response_json\n",
    "businesses = response_json[\"businesses\"]\n",
    "\n",
    "\n",
    "# View the first 2 records\n",
    "businesses[:2]"
   ]
  },
  {
   "cell_type": "markdown",
   "metadata": {},
   "source": [
    "### Preparing Data\n",
    "\n",
    "Write a function `prepare_data` that takes in a list of dictionaries like `businesses` and returns a copy that has been prepared for analysis:\n",
    "\n",
    "1. The `coordinates` key-value pair has been converted into two separate key-value pairs, `latitude` and `longitude`\n",
    "2. All other key-value pairs except for `name`, `review_count`, `rating`, and `price` have been dropped\n",
    "3. All dictionaries missing one of the relevant keys or containing null values have been dropped\n",
    "\n",
    "In other words, the final keys for each dictionary should be `name`, `review_count`, `rating`, `price`, `latitude`, and `longitude`.\n",
    "\n",
    "Complete the function in the cell below:"
   ]
  },
  {
   "cell_type": "code",
   "execution_count": 4,
   "metadata": {},
   "outputs": [
    {
     "data": {
      "text/plain": [
       "[{'name': 'Prince Street Pizza',\n",
       "  'review_count': 4154,\n",
       "  'rating': 4.5,\n",
       "  'price': '$',\n",
       "  'latitude': 40.72308755605564,\n",
       "  'longitude': -73.99453001177575},\n",
       " {'name': \"Lombardi's Pizza\",\n",
       "  'review_count': 6247,\n",
       "  'rating': 4.0,\n",
       "  'price': '$$',\n",
       "  'latitude': 40.7215934960083,\n",
       "  'longitude': -73.9955956044561},\n",
       " {'name': \"Juliana's\",\n",
       "  'review_count': 2390,\n",
       "  'rating': 4.5,\n",
       "  'price': '$$',\n",
       "  'latitude': 40.70274718768062,\n",
       "  'longitude': -73.99343490196397},\n",
       " {'name': 'Rubirosa',\n",
       "  'review_count': 2545,\n",
       "  'rating': 4.5,\n",
       "  'price': '$$',\n",
       "  'latitude': 40.722766,\n",
       "  'longitude': -73.996233},\n",
       " {'name': \"Roberta's\",\n",
       "  'review_count': 3044,\n",
       "  'rating': 4.0,\n",
       "  'price': '$$',\n",
       "  'latitude': 40.70493,\n",
       "  'longitude': -73.93399}]"
      ]
     },
     "execution_count": 4,
     "metadata": {},
     "output_type": "execute_result"
    }
   ],
   "source": [
    "# Replace None with appropriate code\n",
    "\n",
    "def prepare_data(data_list):\n",
    "    \"\"\"\n",
    "    This function takes in a list of dictionaries and prepares it\n",
    "    for analysis\n",
    "    \"\"\"\n",
    "    \n",
    "    # Make a new list to hold results\n",
    "    results = []\n",
    "    \n",
    "    for business_data in data_list:\n",
    "    \n",
    "        # Make a new dictionary to hold prepared data for this business\n",
    "        prepared_data = {}\n",
    "        \n",
    "        # Extract name, review_count, rating, and price key-value pairs\n",
    "        # from business_data and add to prepared_data\n",
    "        # If a key is not present in business_data, add it to prepared_data\n",
    "        # with an associated value of None\n",
    "        for key in (\"name\", \"review_count\", \"rating\", \"price\"):\n",
    "            prepared_data[key] = business_data.get(key, None)\n",
    "    \n",
    "        # Parse and add latitude and longitude columns\n",
    "        coords = business_data[\"coordinates\"]\n",
    "        prepared_data[\"latitude\"] = coords[\"latitude\"]\n",
    "        prepared_data[\"longitude\"] = coords[\"longitude\"]\n",
    "        \n",
    "        # Add to list if all values are present\n",
    "        if all(prepared_data.values()):\n",
    "            results.append(prepared_data)\n",
    "    \n",
    "    return results\n",
    "    \n",
    "# Test out function\n",
    "prepared_businesses = prepare_data(businesses)\n",
    "prepared_businesses[:5]"
   ]
  },
  {
   "cell_type": "markdown",
   "metadata": {},
   "source": [
    "Check that your function created the correct keys:"
   ]
  },
  {
   "cell_type": "code",
   "execution_count": 5,
   "metadata": {},
   "outputs": [],
   "source": [
    "# Run this cell without changes\n",
    "\n",
    "assert sorted(list(prepared_businesses[0].keys())) == ['latitude', 'longitude', 'name', 'price', 'rating', 'review_count']"
   ]
  },
  {
   "cell_type": "markdown",
   "metadata": {},
   "source": [
    "The following code will differ depending on your query, but we expect there to be 20 businesses in the original list, and potentially fewer in the prepared list (if any of them were missing data):"
   ]
  },
  {
   "cell_type": "code",
   "execution_count": 6,
   "metadata": {},
   "outputs": [
    {
     "name": "stdout",
     "output_type": "stream",
     "text": [
      "Original: 20\n",
      "Prepared: 20\n"
     ]
    }
   ],
   "source": [
    "# Run this cell without changes\n",
    "print(\"Original:\", len(businesses))\n",
    "print(\"Prepared:\", len(prepared_businesses))"
   ]
  },
  {
   "cell_type": "markdown",
   "metadata": {},
   "source": [
    "Great! We will reuse this function once we have retrieved the full dataset."
   ]
  },
  {
   "cell_type": "markdown",
   "metadata": {},
   "source": [
    "## 2. Add Pagination\n",
    "\n",
    "Now that you are able to extract information from one page of the response, let's figure out how to request as many pages as possible.\n",
    "\n",
    "### Determining the Total\n",
    "\n",
    "Depending on the number of total results for your query, you will either retrieve all of the results, or just the first 1000 (if there are more than 1000 total).\n",
    "\n",
    "We can find the total number of results using the `\"total\"` key:"
   ]
  },
  {
   "cell_type": "code",
   "execution_count": 7,
   "metadata": {},
   "outputs": [
    {
     "data": {
      "text/plain": [
       "240"
      ]
     },
     "execution_count": 7,
     "metadata": {},
     "output_type": "execute_result"
    }
   ],
   "source": [
    "# Run this cell without changes\n",
    "response_json[\"total\"]"
   ]
  },
  {
   "cell_type": "markdown",
   "metadata": {},
   "source": [
    "(This is specific to the implementation of the Yelp API. Some APIs will just tell you that there are more pages, or will tell you the number of pages total, rather than the total number of results. If you're not sure, always check the documentation.)\n",
    "\n",
    "In the cell below, assign the variable `total` to either the value shown above (if it is less than 1000), or 1000."
   ]
  },
  {
   "cell_type": "code",
   "execution_count": 8,
   "metadata": {},
   "outputs": [],
   "source": [
    "# Replace None with appropriate code\n",
    "total = 240"
   ]
  },
  {
   "cell_type": "markdown",
   "metadata": {},
   "source": [
    "### Calculating the Offsets\n",
    "\n",
    "The documentation states in the parameters section:\n",
    "\n",
    "> **Name**: `limit`, **Type:** int, **Description:** Optional. Number of business results to return. By default, it will return 20. Maximum is 50.\n",
    "\n",
    "> **Name**: `offset`, **Type:** int, **Description:** Optional. Offset the list of returned business results by this amount.\n",
    "\n",
    "So, to get the most results with the fewest API calls we want to set a limit of 50 every time. If, say, we wanted to get 210 total results, that would mean:\n",
    "\n",
    "1. Offset of `0` (first 50 records)\n",
    "2. Offset of `50` (second 50 records)\n",
    "3. Offset of `100` (third 50 records)\n",
    "4. Offset of `150` (fourth 50 records)\n",
    "5. Offset of `200` (final 10 records)\n",
    "\n",
    "In the cell below, create a function `get_offsets` that takes in a total and returns a list of offsets for that total. You can assume that there is a limit of 50 every time.\n",
    "\n",
    "*Hint: you can use `range` ([documentation here](https://docs.python.org/3.3/library/stdtypes.html?highlight=range#range)) to do this in one line of code. Just make the returned result is a list.*"
   ]
  },
  {
   "cell_type": "code",
   "execution_count": 10,
   "metadata": {},
   "outputs": [],
   "source": [
    "# Replace None with appropriate code\n",
    "def get_offsets(total):\n",
    "    \"\"\"\n",
    "    Get a list of offsets needed to get all pages\n",
    "    of data up until the total\n",
    "    \"\"\"\n",
    "    return list(range(0, total, 50))    "
   ]
  },
  {
   "cell_type": "markdown",
   "metadata": {},
   "source": [
    "Check that your function works below:"
   ]
  },
  {
   "cell_type": "code",
   "execution_count": 11,
   "metadata": {},
   "outputs": [],
   "source": [
    "# Run this cell without changes\n",
    "\n",
    "assert get_offsets(200) == [0, 50, 100, 150]\n",
    "assert get_offsets(210) == [0, 50, 100, 150, 200]"
   ]
  },
  {
   "cell_type": "markdown",
   "metadata": {},
   "source": [
    "### Putting It All Together\n",
    "\n",
    "Recall that the following variable has already been declared for you:"
   ]
  },
  {
   "cell_type": "code",
   "execution_count": 12,
   "metadata": {},
   "outputs": [
    {
     "data": {
      "text/plain": [
       "{'term': 'pizza', 'location': 'New+York+NY'}"
      ]
     },
     "execution_count": 12,
     "metadata": {},
     "output_type": "execute_result"
    }
   ],
   "source": [
    "# Run this cell without changes\n",
    "url_params"
   ]
  },
  {
   "cell_type": "markdown",
   "metadata": {},
   "source": [
    "We'll go ahead and also specify that the limit should be 50 every time:"
   ]
  },
  {
   "cell_type": "code",
   "execution_count": 13,
   "metadata": {},
   "outputs": [],
   "source": [
    "# Run this cell without changes\n",
    "url_params[\"limit\"] = 50"
   ]
  },
  {
   "cell_type": "markdown",
   "metadata": {},
   "source": [
    "In order to modify the offset, you'll need to add it to `url_params` with the key `\"offset\"` and whatever value is needed.\n",
    "\n",
    "In the cell below, write code that:\n",
    "\n",
    "* Creates an empty list for the full prepared dataset\n",
    "* Loops over all of the offsets from `get_offsets` and makes an API call each time with the specified offset\n",
    "* Calls `prepare_data` to get a cleaned version of the result of each API call\n",
    "* Extends the full prepared dataset list with each query's prepared dataset"
   ]
  },
  {
   "cell_type": "code",
   "execution_count": 14,
   "metadata": {},
   "outputs": [
    {
     "data": {
      "text/plain": [
       "201"
      ]
     },
     "execution_count": 14,
     "metadata": {},
     "output_type": "execute_result"
    }
   ],
   "source": [
    "# Replace None with appropriate code\n",
    "\n",
    "# Create an empty list for the full prepared dataset\n",
    "full_dataset = []\n",
    "\n",
    "for offset in get_offsets(total):\n",
    "    # Add or update the \"offset\" key-value pair in url_params\n",
    "    url_params[\"offset\"] = offset\n",
    "    \n",
    "    # Make the query and get the response\n",
    "    response = requests.get(url, headers=headers, params=url_params)\n",
    "    \n",
    "    # Get the response body in JSON format\n",
    "    response_json = response.json()\n",
    "    \n",
    "    # Get the list of businesses from the response_json\n",
    "    businesses = response_json[\"businesses\"]\n",
    "    \n",
    "    # Call the prepare_data function to get a list of processed data\n",
    "    prepared_businesses = prepare_data(businesses)\n",
    "    \n",
    "    # Extend full_dataset with this list (don't append, or you'll get\n",
    "    # a list of lists instead of a flat list)\n",
    "    full_dataset.extend(prepared_businesses)\n",
    "\n",
    "# Check the length of the full dataset. It will be up to `total`,\n",
    "# potentially less if there were missing values\n",
    "len(full_dataset)"
   ]
  },
  {
   "cell_type": "markdown",
   "metadata": {},
   "source": [
    "This code may take up to a few minutes to run.\n",
    "\n",
    "If you get an error trying to get the response body in JSON format, try adding `time.sleep(1)` right after the `requests.get` line, so your code will sleep for 1 second between each API call."
   ]
  },
  {
   "cell_type": "markdown",
   "metadata": {},
   "source": [
    "## 3. Perform Exploratory Analysis\n",
    "\n",
    "Take the businesses from the previous question and do an initial exploratory analysis. We have provided some plots for you to interpret:"
   ]
  },
  {
   "cell_type": "code",
   "execution_count": 15,
   "metadata": {},
   "outputs": [
    {
     "data": {
      "image/png": "[encoded data removed]",
      "text/plain": [
       "<Figure size 1152x360 with 3 Axes>"
      ]
     },
     "metadata": {
      "needs_background": "light"
     },
     "output_type": "display_data"
    }
   ],
   "source": [
    "# Run this cell without changes\n",
    "from collections import Counter\n",
    "import matplotlib.pyplot as plt\n",
    "%matplotlib inline\n",
    "\n",
    "fig, (ax1, ax2, ax3) = plt.subplots(ncols=3, figsize=(16, 5))\n",
    "\n",
    "# Plot distribution of number of reviews\n",
    "all_review_counts = [x[\"review_count\"] for x in full_dataset]\n",
    "ax1.hist(all_review_counts)\n",
    "ax1.set_title(\"Review Count Distribution\")\n",
    "ax1.set_xlabel(\"Number of Reviews\")\n",
    "ax1.set_ylabel(\"Number of Businesses\")\n",
    "\n",
    "# Plot rating distribution\n",
    "all_ratings = [x[\"rating\"] for x in full_dataset]\n",
    "rating_counter = Counter(all_ratings)\n",
    "rating_keys = sorted(rating_counter.keys())\n",
    "ax2.bar(rating_keys, [rating_counter[key] for key in rating_keys])\n",
    "ax2.set_title(\"Rating Distribution\")\n",
    "ax2.set_xlabel(\"Rating\")\n",
    "ax2.set_ylabel(\"Number of Businesses\")\n",
    "\n",
    "# Plot price distribution\n",
    "all_prices = [x[\"price\"].replace(\"$\", r\"\\$\") for x in full_dataset]\n",
    "price_counter = Counter(all_prices)\n",
    "price_keys = sorted(price_counter.keys())\n",
    "ax3.bar(price_keys, [price_counter[key] for key in price_keys])\n",
    "ax3.set_title(\"Price Distribution\")\n",
    "ax3.set_xlabel(\"Price Category\")\n",
    "ax3.set_ylabel(\"Number of Businesses\");"
   ]
  },
  {
   "cell_type": "markdown",
   "metadata": {},
   "source": [
    "Describe the distributions displayed above and interpret them in the context of your query. (Your answer may differ from the solution branch depending on your query.)"
   ]
  },
  {
   "cell_type": "code",
   "execution_count": null,
   "metadata": {},
   "outputs": [],
   "source": [
    "# Replace None with appropriate text\n",
    "\"\"\"\n",
    "We can see that the review count distribution is uneven with many business getting less than 1000 reviews while there \n",
    "are a small number of places that have 6000 reviews \n",
    "\n",
    "We can also see looking at the rating distribution that most restaurants recieve around a 4 to 4.5 out 5 rating with no ratings \n",
    "under two. \n",
    "\n",
    "since we did a search for pizza the price distribution is also heavely skewed with a magority of the results landing within the \n",
    "'$' or '$$' catagories meaning they offer affordable pricing\n",
    "\"\"\""
   ]
  },
  {
   "cell_type": "markdown",
   "metadata": {},
   "source": [
    "In the cell below, we also plot the rating distributions by price. In this setup, a price of one dollar sign is \"lower price\" and everything else is \"higher price\"."
   ]
  },
  {
   "cell_type": "code",
   "execution_count": 16,
   "metadata": {},
   "outputs": [
    {
     "data": {
      "image/png": "[encoded data removed]",
      "text/plain": [
       "<Figure size 432x288 with 1 Axes>"
      ]
     },
     "metadata": {
      "needs_background": "light"
     },
     "output_type": "display_data"
    }
   ],
   "source": [
    "# Run this cell without changes\n",
    "\n",
    "higher_price = []\n",
    "lower_price = []\n",
    "for row in full_dataset:\n",
    "    if row[\"price\"] == \"$\":\n",
    "        lower_price.append(row[\"rating\"])\n",
    "    else:\n",
    "        higher_price.append(row[\"rating\"])\n",
    "        \n",
    "fig, ax = plt.subplots()\n",
    "\n",
    "ax.hist([higher_price, lower_price], label=[\"higher price\", \"lower price\"], density=True)\n",
    "\n",
    "ax.legend();"
   ]
  },
  {
   "cell_type": "markdown",
   "metadata": {},
   "source": [
    "Is a higher price associated with a higher rating? (No need for any additional math/statistics, just interpret what you see in the plot.)"
   ]
  },
  {
   "cell_type": "code",
   "execution_count": null,
   "metadata": {},
   "outputs": [],
   "source": [
    "# Replace None with appropriate text\n",
    "\"\"\"\n",
    "we see that there seem to be more ratings in the 4 catagory with an increase in price \n",
    "which could lead us to assume there is an association but we also see more 4.5 ratings \n",
    "with lower prices. there would need to be a bigger sample size to accuretely say. \n",
    "\"\"\""
   ]
  },
  {
   "cell_type": "markdown",
   "metadata": {},
   "source": [
    "Finally, let's look at ratings vs. review counts:"
   ]
  },
  {
   "cell_type": "code",
   "execution_count": 17,
   "metadata": {},
   "outputs": [
    {
     "data": {
      "image/png": "[encoded data removed]",
      "text/plain": [
       "<Figure size 1152x360 with 1 Axes>"
      ]
     },
     "metadata": {
      "needs_background": "light"
     },
     "output_type": "display_data"
    }
   ],
   "source": [
    "# Run this cell without changes\n",
    "fig, ax = plt.subplots(figsize=(16,5))\n",
    "\n",
    "ax.scatter(all_review_counts, all_ratings, alpha=0.2)\n",
    "ax.set_xlabel(\"Number of Reviews\")\n",
    "ax.set_ylabel(\"Rating\")\n",
    "# \"zoom in\" to a subset of review counts\n",
    "ax.set_xlim(left=0, right=1000);"
   ]
  },
  {
   "cell_type": "markdown",
   "metadata": {},
   "source": [
    "Is a higher number of reviews associated with a higher rating?"
   ]
  },
  {
   "cell_type": "code",
   "execution_count": null,
   "metadata": {},
   "outputs": [],
   "source": [
    "# Replace None with appropriate text\n",
    "\"\"\"\n",
    "again this question is even more difficult to answer, we see a raise in the number of reviews from a rating of 3 to \n",
    "4, but from ratings of 4 to 5 there is a massive drop off in the number of reviews. Follow up questions would need to be asked. \n",
    "\"\"\""
   ]
  },
  {
   "cell_type": "markdown",
   "metadata": {},
   "source": [
    "## 4. Create a Folium Map\n",
    "\n",
    "Make a map using Folium of the businesses you retrieved. Be sure to also add popups to the markers giving some basic information such as name, rating and price.\n",
    "\n",
    "You can center the map around the latitude and longitude of the first item in `full_dataset`."
   ]
  },
  {
   "cell_type": "code",
   "execution_count": 18,
   "metadata": {},
   "outputs": [
    {
     "data": {
      "text/html": [
       "<div style=\"width:100%;\"><div style=\"position:relative;width:100%;height:0;padding-bottom:60%;\"><span style=\"color:#565656\">Make this Notebook Trusted to load map: File -> Trust Notebook</span><iframe src=\"about:blank\" style=\"position:absolute;width:100%;height:100%;left:0;top:0;border:none !important;\" data-html=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 onload=\"this.contentDocument.open();this.contentDocument.write(atob(this.getAttribute('data-html')));this.contentDocument.close();\" allowfullscreen webkitallowfullscreen mozallowfullscreen></iframe></div></div>"
      ],
      "text/plain": [
       "<folium.folium.Map at 0x13e0e12e670>"
      ]
     },
     "execution_count": 18,
     "metadata": {},
     "output_type": "execute_result"
    }
   ],
   "source": [
    "import folium\n",
    "\n",
    "# Set up center latitude and longitude\n",
    "center_lat = full_dataset[0][\"latitude\"]\n",
    "center_long = full_dataset[0][\"longitude\"]\n",
    "\n",
    "# Initialize map with center lat and long\n",
    "yelp_map = folium.Map([center_lat, center_long], zoom_start=12)\n",
    "\n",
    "# Adjust this limit to see more or fewer businesses\n",
    "limit=100\n",
    "\n",
    "for business in full_dataset[:limit]:\n",
    "    # Extract information about business\n",
    "    lat = business[\"latitude\"]\n",
    "    long = business[\"longitude\"]\n",
    "    name = business[\"name\"]\n",
    "    rating = business[\"rating\"]\n",
    "    price = business[\"price\"]\n",
    "    details = \"{}\\nPrice: {}\\nRating: {}\".format(name,price,rating)\n",
    "    \n",
    "    # Create popup with relevant details\n",
    "    popup = folium.Popup(details)\n",
    "    \n",
    "    # Create marker with relevant lat/long and popup\n",
    "    marker = folium.Marker([lat, long], popup=popup)\n",
    "    \n",
    "    marker.add_to(yelp_map)\n",
    "\n",
    "yelp_map"
   ]
  },
  {
   "cell_type": "markdown",
   "metadata": {},
   "source": [
    "## Summary\n",
    "\n",
    "Nice work! In this lab, you've made multiple API calls to Yelp in order to paginate through a results set, performing some basic exploratory analysis and then creating a nice interactive map to display the results using Folium! Well done!"
   ]
  }
 ],
 "metadata": {
  "kernelspec": {
   "display_name": "Python 3",
   "language": "python",
   "name": "python3"
  },
  "language_info": {
   "codemirror_mode": {
    "name": "ipython",
    "version": 3
   },
   "file_extension": ".py",
   "mimetype": "text/x-python",
   "name": "python",
   "nbconvert_exporter": "python",
   "pygments_lexer": "ipython3",
   "version": "3.8.5"
  },
  "toc": {
   "base_numbering": 1,
   "nav_menu": {},
   "number_sections": true,
   "sideBar": true,
   "skip_h1_title": false,
   "title_cell": "Table of Contents",
   "title_sidebar": "Contents",
   "toc_cell": false,
   "toc_position": {},
   "toc_section_display": true,
   "toc_window_display": false
  }
 },
 "nbformat": 4,
 "nbformat_minor": 2
}
